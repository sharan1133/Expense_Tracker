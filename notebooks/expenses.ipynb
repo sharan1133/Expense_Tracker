{
 "cells": [
  {
   "cell_type": "code",
   "execution_count": 1,
   "id": "afd2c924",
   "metadata": {},
   "outputs": [],
   "source": [
    "import pandas as pd\n",
    "\n",
    "import numpy as np\n",
    "\n",
    "import seaborn as sns\n",
    "\n",
    "import matplotlib.pyplot as plt\n",
    "\n"
   ]
  },
  {
   "cell_type": "code",
   "execution_count": 2,
   "id": "ff6c96c1",
   "metadata": {},
   "outputs": [],
   "source": [
    "data = {\n",
    "    'Column1':[],\n",
    "    'Column2':[],\n",
    "    'Column3':[],\n",
    "    'Column4':[],\n",
    "    'Column5':[]\n",
    "    \n",
    "}\n",
    "\n",
    "df = pd.DataFrame(data)"
   ]
  },
  {
   "cell_type": "code",
   "execution_count": 14,
   "id": "3ed73267",
   "metadata": {},
   "outputs": [],
   "source": [
    "data1 = {\n",
    "    'One':[],\n",
    "    'Two':[],\n",
    "    'Three':[],\n",
    "    'Four':[],\n",
    "    'Five':[]\n",
    "}\n",
    "\n",
    "df1 = pd.DataFrame(data1)"
   ]
  },
  {
   "cell_type": "code",
   "execution_count": 3,
   "id": "886c484c",
   "metadata": {},
   "outputs": [],
   "source": [
    "df = pd.concat([df , pd.DataFrame({'Column1':1 , 'Column2':2 , 'Column3':3 , 'Column4':4 , 'Column5':5} ,  index=[0])] , ignore_index = False)"
   ]
  },
  {
   "cell_type": "code",
   "execution_count": 6,
   "id": "1b961980",
   "metadata": {},
   "outputs": [],
   "source": [
    "def insert_row_into_dataframe(df , **kwargs):\n",
    "    valid_columns = [\"Column1\", \"Column2\", \"Column3\", \"Column4\", \"Column5\"]\n",
    "    \n",
    "    if any(key not in valid_columns for key in kwargs.keys()):\n",
    "        print(\"Invalid\")\n",
    "    else:\n",
    "        #new_row = {column: kwargs.get(column, None) for column in valid_columns}\n",
    "        new_df = pd.concat([df , pd.DataFrame(kwargs , index = [0])] , ignore_index = False)\n",
    "        return new_df"
   ]
  },
  {
   "cell_type": "code",
   "execution_count": 11,
   "id": "58b72289",
   "metadata": {},
   "outputs": [],
   "source": [
    "new = insert_row_into_dataframe(df , **{'Column1':3 , 'Column2':2 , 'Column3':10 , 'Column4':4 , 'Column5':12923})"
   ]
  },
  {
   "cell_type": "code",
   "execution_count": 15,
   "id": "b59218cc",
   "metadata": {},
   "outputs": [
    {
     "data": {
      "text/html": [
       "<div>\n",
       "<style scoped>\n",
       "    .dataframe tbody tr th:only-of-type {\n",
       "        vertical-align: middle;\n",
       "    }\n",
       "\n",
       "    .dataframe tbody tr th {\n",
       "        vertical-align: top;\n",
       "    }\n",
       "\n",
       "    .dataframe thead th {\n",
       "        text-align: right;\n",
       "    }\n",
       "</style>\n",
       "<table border=\"1\" class=\"dataframe\">\n",
       "  <thead>\n",
       "    <tr style=\"text-align: right;\">\n",
       "      <th></th>\n",
       "      <th>One</th>\n",
       "      <th>Two</th>\n",
       "      <th>Three</th>\n",
       "      <th>Four</th>\n",
       "      <th>Five</th>\n",
       "    </tr>\n",
       "  </thead>\n",
       "  <tbody>\n",
       "  </tbody>\n",
       "</table>\n",
       "</div>"
      ],
      "text/plain": [
       "Empty DataFrame\n",
       "Columns: [One, Two, Three, Four, Five]\n",
       "Index: []"
      ]
     },
     "execution_count": 15,
     "metadata": {},
     "output_type": "execute_result"
    }
   ],
   "source": [
    "df1"
   ]
  },
  {
   "cell_type": "code",
   "execution_count": 16,
   "id": "17bd6988",
   "metadata": {},
   "outputs": [],
   "source": [
    "df1.loc[len(df1)] = [\"First\" , 0 , 0 , 0 , \"Row\"]"
   ]
  },
  {
   "cell_type": "code",
   "execution_count": 17,
   "id": "71b7cefc",
   "metadata": {},
   "outputs": [
    {
     "data": {
      "text/html": [
       "<div>\n",
       "<style scoped>\n",
       "    .dataframe tbody tr th:only-of-type {\n",
       "        vertical-align: middle;\n",
       "    }\n",
       "\n",
       "    .dataframe tbody tr th {\n",
       "        vertical-align: top;\n",
       "    }\n",
       "\n",
       "    .dataframe thead th {\n",
       "        text-align: right;\n",
       "    }\n",
       "</style>\n",
       "<table border=\"1\" class=\"dataframe\">\n",
       "  <thead>\n",
       "    <tr style=\"text-align: right;\">\n",
       "      <th></th>\n",
       "      <th>One</th>\n",
       "      <th>Two</th>\n",
       "      <th>Three</th>\n",
       "      <th>Four</th>\n",
       "      <th>Five</th>\n",
       "    </tr>\n",
       "  </thead>\n",
       "  <tbody>\n",
       "    <tr>\n",
       "      <th>0</th>\n",
       "      <td>First</td>\n",
       "      <td>0</td>\n",
       "      <td>0</td>\n",
       "      <td>0</td>\n",
       "      <td>Row</td>\n",
       "    </tr>\n",
       "  </tbody>\n",
       "</table>\n",
       "</div>"
      ],
      "text/plain": [
       "     One  Two  Three  Four Five\n",
       "0  First    0      0     0  Row"
      ]
     },
     "execution_count": 17,
     "metadata": {},
     "output_type": "execute_result"
    }
   ],
   "source": [
    "df1"
   ]
  },
  {
   "cell_type": "code",
   "execution_count": 28,
   "id": "1d34b700",
   "metadata": {},
   "outputs": [],
   "source": [
    "def add_rows(values):\n",
    "    global df1\n",
    "    df1.loc[len(df1)] = values\n",
    "    return df1        "
   ]
  },
  {
   "cell_type": "code",
   "execution_count": 32,
   "id": "79a0541e",
   "metadata": {},
   "outputs": [
    {
     "data": {
      "text/html": [
       "<div>\n",
       "<style scoped>\n",
       "    .dataframe tbody tr th:only-of-type {\n",
       "        vertical-align: middle;\n",
       "    }\n",
       "\n",
       "    .dataframe tbody tr th {\n",
       "        vertical-align: top;\n",
       "    }\n",
       "\n",
       "    .dataframe thead th {\n",
       "        text-align: right;\n",
       "    }\n",
       "</style>\n",
       "<table border=\"1\" class=\"dataframe\">\n",
       "  <thead>\n",
       "    <tr style=\"text-align: right;\">\n",
       "      <th></th>\n",
       "      <th>One</th>\n",
       "      <th>Two</th>\n",
       "      <th>Three</th>\n",
       "      <th>Four</th>\n",
       "      <th>Five</th>\n",
       "    </tr>\n",
       "  </thead>\n",
       "  <tbody>\n",
       "    <tr>\n",
       "      <th>0</th>\n",
       "      <td>First</td>\n",
       "      <td>0</td>\n",
       "      <td>0</td>\n",
       "      <td>0</td>\n",
       "      <td>Row</td>\n",
       "    </tr>\n",
       "    <tr>\n",
       "      <th>1</th>\n",
       "      <td>Second</td>\n",
       "      <td>0</td>\n",
       "      <td>0</td>\n",
       "      <td>0</td>\n",
       "      <td>Row</td>\n",
       "    </tr>\n",
       "    <tr>\n",
       "      <th>2</th>\n",
       "      <td>Third</td>\n",
       "      <td>0</td>\n",
       "      <td>0</td>\n",
       "      <td>0</td>\n",
       "      <td>Row</td>\n",
       "    </tr>\n",
       "  </tbody>\n",
       "</table>\n",
       "</div>"
      ],
      "text/plain": [
       "      One  Two  Three  Four Five\n",
       "0   First    0      0     0  Row\n",
       "1  Second    0      0     0  Row\n",
       "2   Third    0      0     0  Row"
      ]
     },
     "execution_count": 32,
     "metadata": {},
     "output_type": "execute_result"
    }
   ],
   "source": [
    "add_rows([\"Third\" , 0 , 0 , 0 ,   \"Row\"])"
   ]
  },
  {
   "cell_type": "code",
   "execution_count": 35,
   "id": "0fec294c",
   "metadata": {},
   "outputs": [
    {
     "data": {
      "text/html": [
       "<div>\n",
       "<style scoped>\n",
       "    .dataframe tbody tr th:only-of-type {\n",
       "        vertical-align: middle;\n",
       "    }\n",
       "\n",
       "    .dataframe tbody tr th {\n",
       "        vertical-align: top;\n",
       "    }\n",
       "\n",
       "    .dataframe thead th {\n",
       "        text-align: right;\n",
       "    }\n",
       "</style>\n",
       "<table border=\"1\" class=\"dataframe\">\n",
       "  <thead>\n",
       "    <tr style=\"text-align: right;\">\n",
       "      <th></th>\n",
       "      <th>One</th>\n",
       "      <th>Two</th>\n",
       "      <th>Three</th>\n",
       "      <th>Four</th>\n",
       "      <th>Five</th>\n",
       "    </tr>\n",
       "  </thead>\n",
       "  <tbody>\n",
       "    <tr>\n",
       "      <th>0</th>\n",
       "      <td>First</td>\n",
       "      <td>0</td>\n",
       "      <td>0</td>\n",
       "      <td>0</td>\n",
       "      <td>Row</td>\n",
       "    </tr>\n",
       "    <tr>\n",
       "      <th>1</th>\n",
       "      <td>Second</td>\n",
       "      <td>0</td>\n",
       "      <td>0</td>\n",
       "      <td>0</td>\n",
       "      <td>Row</td>\n",
       "    </tr>\n",
       "    <tr>\n",
       "      <th>2</th>\n",
       "      <td>Third</td>\n",
       "      <td>0</td>\n",
       "      <td>0</td>\n",
       "      <td>0</td>\n",
       "      <td>Row</td>\n",
       "    </tr>\n",
       "  </tbody>\n",
       "</table>\n",
       "</div>"
      ],
      "text/plain": [
       "      One  Two  Three  Four Five\n",
       "0   First    0      0     0  Row\n",
       "1  Second    0      0     0  Row\n",
       "2   Third    0      0     0  Row"
      ]
     },
     "execution_count": 35,
     "metadata": {},
     "output_type": "execute_result"
    }
   ],
   "source": [
    "df1"
   ]
  },
  {
   "cell_type": "code",
   "execution_count": 1,
   "id": "efe28427",
   "metadata": {},
   "outputs": [],
   "source": [
    "## Food\n",
    "## Travel \n",
    "## House\n",
    "## Internet Payments \n",
    "## Necessities \n",
    "## Extras "
   ]
  },
  {
   "cell_type": "code",
   "execution_count": 29,
   "id": "7fee3f73",
   "metadata": {},
   "outputs": [
    {
     "data": {
      "text/plain": [
       "'2023-11-30'"
      ]
     },
     "execution_count": 29,
     "metadata": {},
     "output_type": "execute_result"
    }
   ],
   "source": [
    "import sqlite3\n",
    "import pandas as pd\n",
    "from datetime import datetime\n",
    "\n",
    "datetime.now().strftime('%Y-%m-%d') "
   ]
  },
  {
   "cell_type": "code",
   "execution_count": 10,
   "id": "f03d901a",
   "metadata": {},
   "outputs": [
    {
     "data": {
      "text/plain": [
       "<sqlite3.Cursor at 0x7f0578650b40>"
      ]
     },
     "execution_count": 10,
     "metadata": {},
     "output_type": "execute_result"
    }
   ],
   "source": [
    "conn = sqlite3.connect('expenses.db')\n",
    "\n",
    "cursor = conn.cursor()\n",
    "\n",
    "cursor.execute('''\n",
    "    CREATE TABLE IF NOT EXISTS expenses (\n",
    "        Date TEXT PRIMARY KEY,\n",
    "        Food REAL,\n",
    "        Travel REAL,\n",
    "        House REAL,\n",
    "        Internet_Payments REAL,\n",
    "        Necessities REAL,\n",
    "        Extras REAL\n",
    "    )\n",
    "''')"
   ]
  },
  {
   "cell_type": "code",
   "execution_count": 61,
   "id": "b999dd8a",
   "metadata": {},
   "outputs": [],
   "source": [
    "def add_expense_row(expenses):\n",
    "    current_date = datetime.now().strftime('%Y-%m-%d')\n",
    "    expenses_with_date = [current_date] + expenses\n",
    "    \n",
    "    cursor.execute('''\n",
    "        INSERT INTO expenses (Date, Food, Travel, House, Internet_Payments, Necessities, Extras , Investments)\n",
    "        VALUES (?, ?, ?, ?, ?, ?, ?,?)\n",
    "    ''', expenses_with_date)\n",
    "    conn.commit()\n",
    "    \n",
    "\n",
    "    \n",
    "def add_column(column_name , database = 'expenses.db' , table_name = 'expenses', column_type = 'REAL'):\n",
    "    conn = sqlite3.connect(database)\n",
    "    cursor = conn.cursor()\n",
    "\n",
    "    try:\n",
    "        cursor.execute(f'ALTER TABLE {table_name} ADD COLUMN {column_name} {column_type}')\n",
    "        conn.commit()\n",
    "        print(f\"Column '{column_name}' added to table '{table_name}'.\")\n",
    "    except sqlite3.Error as e:\n",
    "        print(f\"SQLite error: {e}\")\n",
    "    finally:\n",
    "        conn.close()"
   ]
  },
  {
   "cell_type": "code",
   "execution_count": 63,
   "id": "4bdb5f9b",
   "metadata": {},
   "outputs": [],
   "source": [
    "def display_expenses():    \n",
    "    cursor.execute('SELECT * FROM expenses')\n",
    "    rows = cursor.fetchall()\n",
    "    for row in rows:\n",
    "        print(row)\n",
    "\n",
    "\n",
    "def display_table_as_dataframe(table_name):\n",
    "    conn = sqlite3.connect('expenses.db')\n",
    "    try:\n",
    "        df = pd.read_sql_query(f'SELECT * FROM {table_name}', conn)\n",
    "        #print(df.head())\n",
    "        return df\n",
    "\n",
    "    except sqlite3.Error as e:\n",
    "        print(f\"SQLite error: {e}\")\n",
    "\n",
    "    finally:\n",
    "        \n",
    "        conn.close()\n",
    "        \n",
    "\n",
    "        \n",
    "        \n",
    "def display_table(table_name):\n",
    "    conn = sqlite3.connect('expenses.db')\n",
    "    cursor = conn.cursor()\n",
    "    try:\n",
    "        cursor.execute(f'SELECT * FROM {table_name} ORDER BY Date')\n",
    "        rows = cursor.fetchall()\n",
    "        column_names = [description[0] for description in cursor.description]\n",
    "        print(\" | \".join(column_names))\n",
    "        for row in rows:\n",
    "            print(\" | \".join(map(str, row)))\n",
    "\n",
    "    except sqlite3.Error as e:\n",
    "        print(f\"SQLite error: {e}\")\n",
    "\n",
    "    finally:\n",
    "        conn.close()\n"
   ]
  },
  {
   "cell_type": "code",
   "execution_count": null,
   "id": "3217fae2",
   "metadata": {},
   "outputs": [],
   "source": []
  }
 ],
 "metadata": {
  "kernelspec": {
   "display_name": "Python 3 (ipykernel)",
   "language": "python",
   "name": "python3"
  },
  "language_info": {
   "codemirror_mode": {
    "name": "ipython",
    "version": 3
   },
   "file_extension": ".py",
   "mimetype": "text/x-python",
   "name": "python",
   "nbconvert_exporter": "python",
   "pygments_lexer": "ipython3",
   "version": "3.10.10"
  }
 },
 "nbformat": 4,
 "nbformat_minor": 5
}
