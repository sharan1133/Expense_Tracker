{
 "cells": [
  {
   "cell_type": "code",
   "execution_count": 2,
   "id": "afd2c924",
   "metadata": {},
   "outputs": [
    {
     "data": {
      "text/plain": [
       "'2023-11-30'"
      ]
     },
     "execution_count": 2,
     "metadata": {},
     "output_type": "execute_result"
    }
   ],
   "source": [
    "import sqlite3\n",
    "\n",
    "from datetime import datetime\n",
    "\n",
    "import pandas as pd\n",
    "\n",
    "import numpy as np\n",
    "\n",
    "import seaborn as sns\n",
    "\n",
    "import matplotlib.pyplot as plt\n",
    "\n",
    "datetime.now().strftime('%Y-%m-%d')\n"
   ]
  },
  {
   "cell_type": "code",
   "execution_count": 1,
   "id": "efe28427",
   "metadata": {},
   "outputs": [],
   "source": [
    "## Food\n",
    "## Travel \n",
    "## House\n",
    "## Internet Payments \n",
    "## Necessities \n",
    "## Extras "
   ]
  },
  {
   "cell_type": "code",
   "execution_count": 3,
   "id": "f03d901a",
   "metadata": {},
   "outputs": [
    {
     "data": {
      "text/plain": [
       "<sqlite3.Cursor at 0x7f5d6e1af3c0>"
      ]
     },
     "execution_count": 3,
     "metadata": {},
     "output_type": "execute_result"
    }
   ],
   "source": [
    "conn = sqlite3.connect('expenses.db')\n",
    "\n",
    "cursor = conn.cursor()\n",
    "\n",
    "cursor.execute('''\n",
    "    CREATE TABLE IF NOT EXISTS expenses (\n",
    "        Date TEXT PRIMARY KEY,\n",
    "        Food REAL,\n",
    "        Travel REAL,\n",
    "        House REAL,\n",
    "        Internet_Payments REAL,\n",
    "        Necessities REAL,\n",
    "        Extras REAL\n",
    "    )\n",
    "''')"
   ]
  },
  {
   "cell_type": "code",
   "execution_count": 11,
   "id": "b999dd8a",
   "metadata": {},
   "outputs": [],
   "source": [
    "def add_expense_row_for_custom_date(expenses):\n",
    "    #current_date = datetime.now().strftime('%Y-%m-%d')\n",
    "    #expenses_with_date = [current_date] + expenses\n",
    "    expenses_with_date = expenses\n",
    "    cursor.execute('''\n",
    "        INSERT INTO expenses (Date, Food, Travel, House, Internet_Payments, Necessities, Extras , Investments)\n",
    "        VALUES (?, ?, ?, ?, ?, ?, ?,?)\n",
    "    ''', expenses_with_date)\n",
    "    conn.commit()\n",
    "\n",
    "\n",
    "def add_expense_row(expenses):\n",
    "    current_date = datetime.now().strftime('%Y-%m-%d')\n",
    "    expenses_with_date = [current_date] + expenses\n",
    "    \n",
    "    cursor.execute('''\n",
    "        INSERT INTO expenses (Date, Food, Travel, House, Internet_Payments, Necessities, Extras , Investments)\n",
    "        VALUES (?, ?, ?, ?, ?, ?, ?,?)\n",
    "    ''', expenses_with_date)\n",
    "    conn.commit()\n",
    "    \n",
    "\n",
    "    \n",
    "def add_column(column_name , database = 'expenses.db' , table_name = 'expenses', column_type = 'REAL'):\n",
    "    conn = sqlite3.connect(database)\n",
    "    cursor = conn.cursor()\n",
    "\n",
    "    try:\n",
    "        cursor.execute(f'ALTER TABLE {table_name} ADD COLUMN {column_name} {column_type}')\n",
    "        conn.commit()\n",
    "        print(f\"Column '{column_name}' added to table '{table_name}'.\")\n",
    "    except sqlite3.Error as e:\n",
    "        print(f\"SQLite error: {e}\")\n",
    "    finally:\n",
    "        conn.close()"
   ]
  },
  {
   "cell_type": "code",
   "execution_count": 9,
   "id": "4bdb5f9b",
   "metadata": {},
   "outputs": [],
   "source": [
    "def display_expenses():    \n",
    "    cursor.execute('SELECT * FROM expenses')\n",
    "    rows = cursor.fetchall()\n",
    "    for row in rows:\n",
    "        print(row)\n",
    "\n",
    "\n",
    "def display_table_as_dataframe(table_name = 'expenses'):\n",
    "    conn = sqlite3.connect('expenses.db')\n",
    "    try:\n",
    "        df = pd.read_sql_query(f'SELECT * FROM {table_name} ORDER BY Date', conn)\n",
    "        #print(df.head())\n",
    "        return df\n",
    "\n",
    "    except sqlite3.Error as e:\n",
    "        print(f\"SQLite error: {e}\")\n",
    "\n",
    "    finally:\n",
    "        \n",
    "        conn.close()\n",
    "        \n",
    "\n",
    "        \n",
    "        \n",
    "def display_table(table_name):\n",
    "    conn = sqlite3.connect('expenses.db')\n",
    "    cursor = conn.cursor()\n",
    "    try:\n",
    "        cursor.execute(f'SELECT * FROM {table_name} ORDER BY Date')\n",
    "        rows = cursor.fetchall()\n",
    "        column_names = [description[0] for description in cursor.description]\n",
    "        print(\" | \".join(column_names))\n",
    "        for row in rows:\n",
    "            print(\" | \".join(map(str, row)))\n",
    "\n",
    "    except sqlite3.Error as e:\n",
    "        print(f\"SQLite error: {e}\")\n",
    "\n",
    "    finally:\n",
    "        conn.close()\n"
   ]
  },
  {
   "cell_type": "code",
   "execution_count": 10,
   "id": "3217fae2",
   "metadata": {},
   "outputs": [
    {
     "data": {
      "text/html": [
       "<div>\n",
       "<style scoped>\n",
       "    .dataframe tbody tr th:only-of-type {\n",
       "        vertical-align: middle;\n",
       "    }\n",
       "\n",
       "    .dataframe tbody tr th {\n",
       "        vertical-align: top;\n",
       "    }\n",
       "\n",
       "    .dataframe thead th {\n",
       "        text-align: right;\n",
       "    }\n",
       "</style>\n",
       "<table border=\"1\" class=\"dataframe\">\n",
       "  <thead>\n",
       "    <tr style=\"text-align: right;\">\n",
       "      <th></th>\n",
       "      <th>Date</th>\n",
       "      <th>Food</th>\n",
       "      <th>Travel</th>\n",
       "      <th>House</th>\n",
       "      <th>Internet_Payments</th>\n",
       "      <th>Necessities</th>\n",
       "      <th>Extras</th>\n",
       "      <th>Investments</th>\n",
       "    </tr>\n",
       "  </thead>\n",
       "  <tbody>\n",
       "    <tr>\n",
       "      <th>0</th>\n",
       "      <td>2023-11-28</td>\n",
       "      <td>220.0</td>\n",
       "      <td>351.0</td>\n",
       "      <td>0.0</td>\n",
       "      <td>199.0</td>\n",
       "      <td>0.0</td>\n",
       "      <td>0.0</td>\n",
       "      <td>0.0</td>\n",
       "    </tr>\n",
       "    <tr>\n",
       "      <th>1</th>\n",
       "      <td>2023-11-29</td>\n",
       "      <td>20.0</td>\n",
       "      <td>0.0</td>\n",
       "      <td>280.0</td>\n",
       "      <td>0.0</td>\n",
       "      <td>0.0</td>\n",
       "      <td>0.0</td>\n",
       "      <td>0.0</td>\n",
       "    </tr>\n",
       "    <tr>\n",
       "      <th>2</th>\n",
       "      <td>2023-11-30</td>\n",
       "      <td>2182.0</td>\n",
       "      <td>0.0</td>\n",
       "      <td>0.0</td>\n",
       "      <td>0.0</td>\n",
       "      <td>0.0</td>\n",
       "      <td>350.0</td>\n",
       "      <td>NaN</td>\n",
       "    </tr>\n",
       "  </tbody>\n",
       "</table>\n",
       "</div>"
      ],
      "text/plain": [
       "         Date    Food  Travel  House  Internet_Payments  Necessities  Extras   \n",
       "0  2023-11-28   220.0   351.0    0.0              199.0          0.0     0.0  \\\n",
       "1  2023-11-29    20.0     0.0  280.0                0.0          0.0     0.0   \n",
       "2  2023-11-30  2182.0     0.0    0.0                0.0          0.0   350.0   \n",
       "\n",
       "   Investments  \n",
       "0          0.0  \n",
       "1          0.0  \n",
       "2          NaN  "
      ]
     },
     "execution_count": 10,
     "metadata": {},
     "output_type": "execute_result"
    }
   ],
   "source": [
    "display_table_as_dataframe()"
   ]
  },
  {
   "cell_type": "code",
   "execution_count": null,
   "id": "f8ae28df",
   "metadata": {},
   "outputs": [],
   "source": []
  }
 ],
 "metadata": {
  "kernelspec": {
   "display_name": "Python 3 (ipykernel)",
   "language": "python",
   "name": "python3"
  },
  "language_info": {
   "codemirror_mode": {
    "name": "ipython",
    "version": 3
   },
   "file_extension": ".py",
   "mimetype": "text/x-python",
   "name": "python",
   "nbconvert_exporter": "python",
   "pygments_lexer": "ipython3",
   "version": "3.10.10"
  }
 },
 "nbformat": 4,
 "nbformat_minor": 5
}
